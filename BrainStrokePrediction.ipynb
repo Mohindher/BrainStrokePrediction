{
 "cells": [
  {
   "cell_type": "code",
   "execution_count": 1,
   "id": "a21efd8e",
   "metadata": {},
   "outputs": [],
   "source": [
    "import numpy as np\n",
    "import pandas as pd\n",
    "import matplotlib.pyplot as plt\n",
    "import seaborn as sns"
   ]
  },
  {
   "cell_type": "code",
   "execution_count": 2,
   "id": "60527bb0",
   "metadata": {},
   "outputs": [
    {
     "name": "stdout",
     "output_type": "stream",
     "text": [
      "Number of rows & colunms :  (4981, 11)\n",
      "\n",
      "Top five rows : \n",
      "   Gender   Age  HighBloodPressure  HeartAttack Marriage     Work  \\\n",
      "0    Male  67.0                  0            1  Married  Private   \n",
      "1    Male  80.0                  0            1  Married  Private   \n",
      "2  Female  49.0                  0            0  Married  Private   \n",
      "3  Female  79.0                  1            0  Married     Self   \n",
      "4    Male  81.0                  0            0  Married  Private   \n",
      "\n",
      "     Residence  GlucoseLevel  BodyMassIndex          Smoking  BrainStroke  \n",
      "0         City        228.69           36.6  Formerly Smoked            1  \n",
      "1  CountrySide        105.92           32.5     Never Smoked            1  \n",
      "2         City        171.23           34.4           Smoked            1  \n",
      "3  CountrySide        174.12           24.0     Never Smoked            1  \n",
      "4         City        186.21           29.0  Formerly Smoked            1  \n",
      "\n",
      "Bottom five rows : \n",
      "      Gender   Age  HighBloodPressure  HeartAttack   Marriage        Work  \\\n",
      "4976    Male  41.0                  0            0  Unmarried     Private   \n",
      "4977    Male  40.0                  0            0    Married     Private   \n",
      "4978  Female  45.0                  1            0    Married  Government   \n",
      "4979    Male  40.0                  0            0    Married     Private   \n",
      "4980  Female  80.0                  1            0    Married     Private   \n",
      "\n",
      "        Residence  GlucoseLevel  BodyMassIndex          Smoking  BrainStroke  \n",
      "4976  CountrySide         70.15           29.8  Formerly Smoked            0  \n",
      "4977         City        191.15           31.1           Smoked            0  \n",
      "4978  CountrySide         95.02           31.8           Smoked            0  \n",
      "4979  CountrySide         83.94           30.0           Smoked            0  \n",
      "4980         City         83.75           29.1     Never Smoked            0  \n",
      "\n",
      "<class 'pandas.core.frame.DataFrame'>\n",
      "RangeIndex: 4981 entries, 0 to 4980\n",
      "Data columns (total 11 columns):\n",
      " #   Column             Non-Null Count  Dtype  \n",
      "---  ------             --------------  -----  \n",
      " 0   Gender             4981 non-null   object \n",
      " 1   Age                4981 non-null   float64\n",
      " 2   HighBloodPressure  4981 non-null   int64  \n",
      " 3   HeartAttack        4981 non-null   int64  \n",
      " 4   Marriage           4981 non-null   object \n",
      " 5   Work               4981 non-null   object \n",
      " 6   Residence          4981 non-null   object \n",
      " 7   GlucoseLevel       4981 non-null   float64\n",
      " 8   BodyMassIndex      4981 non-null   float64\n",
      " 9   Smoking            4981 non-null   object \n",
      " 10  BrainStroke        4981 non-null   int64  \n",
      "dtypes: float64(3), int64(3), object(5)\n",
      "memory usage: 428.2+ KB\n",
      "\n",
      "\n"
     ]
    }
   ],
   "source": [
    "# Load the Dataset\n",
    "data = pd.read_csv(\"/Users/mohindher/Documents/Data.csv\")\n",
    "\n",
    "# Understanding the Dataset\n",
    "print(\"Number of rows & colunms : \",data.shape)\n",
    "print(\"\\nTop five rows : \\n{}\".format(data.head()))\n",
    "print(\"\\nBottom five rows : \\n{}\\n\".format(data.tail()))\n",
    "print(\"\\n\".format(data.info()))"
   ]
  },
  {
   "cell_type": "code",
   "execution_count": 3,
   "id": "5c93137d",
   "metadata": {},
   "outputs": [
    {
     "name": "stdout",
     "output_type": "stream",
     "text": [
      "The head function in Python displays the first five rows of the dataframe by default.\n",
      "\n"
     ]
    },
    {
     "data": {
      "text/html": [
       "<div>\n",
       "<style scoped>\n",
       "    .dataframe tbody tr th:only-of-type {\n",
       "        vertical-align: middle;\n",
       "    }\n",
       "\n",
       "    .dataframe tbody tr th {\n",
       "        vertical-align: top;\n",
       "    }\n",
       "\n",
       "    .dataframe thead th {\n",
       "        text-align: right;\n",
       "    }\n",
       "</style>\n",
       "<table border=\"1\" class=\"dataframe\">\n",
       "  <thead>\n",
       "    <tr style=\"text-align: right;\">\n",
       "      <th></th>\n",
       "      <th>Gender</th>\n",
       "      <th>Age</th>\n",
       "      <th>HighBloodPressure</th>\n",
       "      <th>HeartAttack</th>\n",
       "      <th>Marriage</th>\n",
       "      <th>Work</th>\n",
       "      <th>Residence</th>\n",
       "      <th>GlucoseLevel</th>\n",
       "      <th>BodyMassIndex</th>\n",
       "      <th>Smoking</th>\n",
       "      <th>BrainStroke</th>\n",
       "    </tr>\n",
       "  </thead>\n",
       "  <tbody>\n",
       "    <tr>\n",
       "      <th>0</th>\n",
       "      <td>Male</td>\n",
       "      <td>67.0</td>\n",
       "      <td>0</td>\n",
       "      <td>1</td>\n",
       "      <td>Married</td>\n",
       "      <td>Private</td>\n",
       "      <td>City</td>\n",
       "      <td>228.69</td>\n",
       "      <td>36.6</td>\n",
       "      <td>Formerly Smoked</td>\n",
       "      <td>1</td>\n",
       "    </tr>\n",
       "    <tr>\n",
       "      <th>1</th>\n",
       "      <td>Male</td>\n",
       "      <td>80.0</td>\n",
       "      <td>0</td>\n",
       "      <td>1</td>\n",
       "      <td>Married</td>\n",
       "      <td>Private</td>\n",
       "      <td>CountrySide</td>\n",
       "      <td>105.92</td>\n",
       "      <td>32.5</td>\n",
       "      <td>Never Smoked</td>\n",
       "      <td>1</td>\n",
       "    </tr>\n",
       "    <tr>\n",
       "      <th>2</th>\n",
       "      <td>Female</td>\n",
       "      <td>49.0</td>\n",
       "      <td>0</td>\n",
       "      <td>0</td>\n",
       "      <td>Married</td>\n",
       "      <td>Private</td>\n",
       "      <td>City</td>\n",
       "      <td>171.23</td>\n",
       "      <td>34.4</td>\n",
       "      <td>Smoked</td>\n",
       "      <td>1</td>\n",
       "    </tr>\n",
       "    <tr>\n",
       "      <th>3</th>\n",
       "      <td>Female</td>\n",
       "      <td>79.0</td>\n",
       "      <td>1</td>\n",
       "      <td>0</td>\n",
       "      <td>Married</td>\n",
       "      <td>Self</td>\n",
       "      <td>CountrySide</td>\n",
       "      <td>174.12</td>\n",
       "      <td>24.0</td>\n",
       "      <td>Never Smoked</td>\n",
       "      <td>1</td>\n",
       "    </tr>\n",
       "    <tr>\n",
       "      <th>4</th>\n",
       "      <td>Male</td>\n",
       "      <td>81.0</td>\n",
       "      <td>0</td>\n",
       "      <td>0</td>\n",
       "      <td>Married</td>\n",
       "      <td>Private</td>\n",
       "      <td>City</td>\n",
       "      <td>186.21</td>\n",
       "      <td>29.0</td>\n",
       "      <td>Formerly Smoked</td>\n",
       "      <td>1</td>\n",
       "    </tr>\n",
       "  </tbody>\n",
       "</table>\n",
       "</div>"
      ],
      "text/plain": [
       "   Gender   Age  HighBloodPressure  HeartAttack Marriage     Work  \\\n",
       "0    Male  67.0                  0            1  Married  Private   \n",
       "1    Male  80.0                  0            1  Married  Private   \n",
       "2  Female  49.0                  0            0  Married  Private   \n",
       "3  Female  79.0                  1            0  Married     Self   \n",
       "4    Male  81.0                  0            0  Married  Private   \n",
       "\n",
       "     Residence  GlucoseLevel  BodyMassIndex          Smoking  BrainStroke  \n",
       "0         City        228.69           36.6  Formerly Smoked            1  \n",
       "1  CountrySide        105.92           32.5     Never Smoked            1  \n",
       "2         City        171.23           34.4           Smoked            1  \n",
       "3  CountrySide        174.12           24.0     Never Smoked            1  \n",
       "4         City        186.21           29.0  Formerly Smoked            1  "
      ]
     },
     "execution_count": 3,
     "metadata": {},
     "output_type": "execute_result"
    }
   ],
   "source": [
    "print(\"The head function in Python displays the first five rows of the dataframe by default.\\n\")\n",
    "data.head()\n",
    "     "
   ]
  },
  {
   "cell_type": "code",
   "execution_count": 4,
   "id": "5dba4207",
   "metadata": {},
   "outputs": [
    {
     "name": "stdout",
     "output_type": "stream",
     "text": [
      "The shape() function allows you to determine the dimensions of any Python object.\n",
      "\n",
      "It returns a tuple containing the dimensions of a Python object.\n",
      "\n",
      "We have collected data about 4981 rows and 11 columns of the individual patients.\n",
      "\n"
     ]
    },
    {
     "data": {
      "text/plain": [
       "(4981, 11)"
      ]
     },
     "execution_count": 4,
     "metadata": {},
     "output_type": "execute_result"
    }
   ],
   "source": [
    "print(\"The shape() function allows you to determine the dimensions of any Python object.\\n\")\n",
    "print(\"It returns a tuple containing the dimensions of a Python object.\\n\")\n",
    "print(\"We have collected data about 4981 rows and 11 columns of the individual patients.\\n\")\n",
    "data.shape\n"
   ]
  },
  {
   "cell_type": "code",
   "execution_count": 5,
   "id": "f2559cde",
   "metadata": {},
   "outputs": [
    {
     "name": "stdout",
     "output_type": "stream",
     "text": [
      "The describe() function is used to compute statistical models from the numerical values of a Series or Data Frame, such as percentile, mean, and standard deviation. It examines both numeric and object series, as well as Data Frame column sets with mixed data types.\n",
      "\n"
     ]
    },
    {
     "data": {
      "text/html": [
       "<div>\n",
       "<style scoped>\n",
       "    .dataframe tbody tr th:only-of-type {\n",
       "        vertical-align: middle;\n",
       "    }\n",
       "\n",
       "    .dataframe tbody tr th {\n",
       "        vertical-align: top;\n",
       "    }\n",
       "\n",
       "    .dataframe thead th {\n",
       "        text-align: right;\n",
       "    }\n",
       "</style>\n",
       "<table border=\"1\" class=\"dataframe\">\n",
       "  <thead>\n",
       "    <tr style=\"text-align: right;\">\n",
       "      <th></th>\n",
       "      <th>Age</th>\n",
       "      <th>HighBloodPressure</th>\n",
       "      <th>HeartAttack</th>\n",
       "      <th>GlucoseLevel</th>\n",
       "      <th>BodyMassIndex</th>\n",
       "      <th>BrainStroke</th>\n",
       "    </tr>\n",
       "  </thead>\n",
       "  <tbody>\n",
       "    <tr>\n",
       "      <th>count</th>\n",
       "      <td>4981.000000</td>\n",
       "      <td>4981.000000</td>\n",
       "      <td>4981.000000</td>\n",
       "      <td>4981.000000</td>\n",
       "      <td>4981.000000</td>\n",
       "      <td>4981.000000</td>\n",
       "    </tr>\n",
       "    <tr>\n",
       "      <th>mean</th>\n",
       "      <td>43.419859</td>\n",
       "      <td>0.096165</td>\n",
       "      <td>0.055210</td>\n",
       "      <td>105.943562</td>\n",
       "      <td>28.498173</td>\n",
       "      <td>0.049789</td>\n",
       "    </tr>\n",
       "    <tr>\n",
       "      <th>std</th>\n",
       "      <td>22.662755</td>\n",
       "      <td>0.294848</td>\n",
       "      <td>0.228412</td>\n",
       "      <td>45.075373</td>\n",
       "      <td>6.790464</td>\n",
       "      <td>0.217531</td>\n",
       "    </tr>\n",
       "    <tr>\n",
       "      <th>min</th>\n",
       "      <td>0.080000</td>\n",
       "      <td>0.000000</td>\n",
       "      <td>0.000000</td>\n",
       "      <td>55.120000</td>\n",
       "      <td>14.000000</td>\n",
       "      <td>0.000000</td>\n",
       "    </tr>\n",
       "    <tr>\n",
       "      <th>25%</th>\n",
       "      <td>25.000000</td>\n",
       "      <td>0.000000</td>\n",
       "      <td>0.000000</td>\n",
       "      <td>77.230000</td>\n",
       "      <td>23.700000</td>\n",
       "      <td>0.000000</td>\n",
       "    </tr>\n",
       "    <tr>\n",
       "      <th>50%</th>\n",
       "      <td>45.000000</td>\n",
       "      <td>0.000000</td>\n",
       "      <td>0.000000</td>\n",
       "      <td>91.850000</td>\n",
       "      <td>28.100000</td>\n",
       "      <td>0.000000</td>\n",
       "    </tr>\n",
       "    <tr>\n",
       "      <th>75%</th>\n",
       "      <td>61.000000</td>\n",
       "      <td>0.000000</td>\n",
       "      <td>0.000000</td>\n",
       "      <td>113.860000</td>\n",
       "      <td>32.600000</td>\n",
       "      <td>0.000000</td>\n",
       "    </tr>\n",
       "    <tr>\n",
       "      <th>max</th>\n",
       "      <td>82.000000</td>\n",
       "      <td>1.000000</td>\n",
       "      <td>1.000000</td>\n",
       "      <td>271.740000</td>\n",
       "      <td>48.900000</td>\n",
       "      <td>1.000000</td>\n",
       "    </tr>\n",
       "  </tbody>\n",
       "</table>\n",
       "</div>"
      ],
      "text/plain": [
       "               Age  HighBloodPressure  HeartAttack  GlucoseLevel  \\\n",
       "count  4981.000000        4981.000000  4981.000000   4981.000000   \n",
       "mean     43.419859           0.096165     0.055210    105.943562   \n",
       "std      22.662755           0.294848     0.228412     45.075373   \n",
       "min       0.080000           0.000000     0.000000     55.120000   \n",
       "25%      25.000000           0.000000     0.000000     77.230000   \n",
       "50%      45.000000           0.000000     0.000000     91.850000   \n",
       "75%      61.000000           0.000000     0.000000    113.860000   \n",
       "max      82.000000           1.000000     1.000000    271.740000   \n",
       "\n",
       "       BodyMassIndex  BrainStroke  \n",
       "count    4981.000000  4981.000000  \n",
       "mean       28.498173     0.049789  \n",
       "std         6.790464     0.217531  \n",
       "min        14.000000     0.000000  \n",
       "25%        23.700000     0.000000  \n",
       "50%        28.100000     0.000000  \n",
       "75%        32.600000     0.000000  \n",
       "max        48.900000     1.000000  "
      ]
     },
     "execution_count": 5,
     "metadata": {},
     "output_type": "execute_result"
    }
   ],
   "source": [
    "print(\"The describe() function is used to compute statistical models from the numerical values of a Series or Data Frame, such as percentile, mean, and standard deviation. It examines both numeric and object series, as well as Data Frame column sets with mixed data types.\\n\")\n",
    "data.describe()"
   ]
  },
  {
   "cell_type": "code",
   "execution_count": 6,
   "id": "27ad680e",
   "metadata": {},
   "outputs": [
    {
     "name": "stdout",
     "output_type": "stream",
     "text": [
      "The info() function returns data about the Data Frame. The data includes the number of columns, column names, column data types, memory use, range index, and cell count for each column (non-null values). It should be noted that the info() function really outputs the information.\n",
      "\n",
      "<class 'pandas.core.frame.DataFrame'>\n",
      "RangeIndex: 4981 entries, 0 to 4980\n",
      "Data columns (total 11 columns):\n",
      " #   Column             Non-Null Count  Dtype  \n",
      "---  ------             --------------  -----  \n",
      " 0   Gender             4981 non-null   object \n",
      " 1   Age                4981 non-null   float64\n",
      " 2   HighBloodPressure  4981 non-null   int64  \n",
      " 3   HeartAttack        4981 non-null   int64  \n",
      " 4   Marriage           4981 non-null   object \n",
      " 5   Work               4981 non-null   object \n",
      " 6   Residence          4981 non-null   object \n",
      " 7   GlucoseLevel       4981 non-null   float64\n",
      " 8   BodyMassIndex      4981 non-null   float64\n",
      " 9   Smoking            4981 non-null   object \n",
      " 10  BrainStroke        4981 non-null   int64  \n",
      "dtypes: float64(3), int64(3), object(5)\n",
      "memory usage: 428.2+ KB\n"
     ]
    }
   ],
   "source": [
    "print(\"The info() function returns data about the Data Frame. The data includes the number of columns, column names, column data types, memory use, range index, and cell count for each column (non-null values). It should be noted that the info() function really outputs the information.\\n\")\n",
    "data.info()"
   ]
  },
  {
   "cell_type": "code",
   "execution_count": 7,
   "id": "5e2781e0",
   "metadata": {},
   "outputs": [
    {
     "name": "stdout",
     "output_type": "stream",
     "text": [
      "Missing values in the dataset: \n",
      " Gender               0\n",
      "Age                  0\n",
      "HighBloodPressure    0\n",
      "HeartAttack          0\n",
      "Marriage             0\n",
      "Work                 0\n",
      "Residence            0\n",
      "GlucoseLevel         0\n",
      "BodyMassIndex        0\n",
      "Smoking              0\n",
      "BrainStroke          0\n",
      "dtype: int64\n"
     ]
    }
   ],
   "source": [
    "# Cleaning the dataset - It shows no missing value to handle as we don't have any null values in the dataset.\n",
    "\n",
    "print(\"Missing values in the dataset: \\n\", data.isnull().sum())"
   ]
  },
  {
   "cell_type": "code",
   "execution_count": 8,
   "id": "22db1536",
   "metadata": {},
   "outputs": [
    {
     "name": "stdout",
     "output_type": "stream",
     "text": [
      "Total number of duplicated rows : 0\n"
     ]
    }
   ],
   "source": [
    "# Removing Redundant Data\n",
    "# Checking for duplicate row - No duplicate row exists in the dataset which we provided for the project.\n",
    "print(\"Total number of duplicated rows : {}\".format(data[data.duplicated() == True]['Gender'].count()))"
   ]
  },
  {
   "cell_type": "code",
   "execution_count": 9,
   "id": "c59cc82c",
   "metadata": {},
   "outputs": [
    {
     "name": "stdout",
     "output_type": "stream",
     "text": [
      "Female    2907\n",
      "Male      2074\n",
      "Name: Gender, dtype: int64\n",
      "After looking for inconsistent data in the dataset: \n",
      "78.00    102\n",
      "57.00     92\n",
      "54.00     85\n",
      "51.00     84\n",
      "79.00     84\n",
      "        ... \n",
      "1.16       3\n",
      "0.48       3\n",
      "0.40       2\n",
      "0.08       2\n",
      "0.16       1\n",
      "Name: Age, Length: 104, dtype: int64\n",
      "After looking for inconsistent data in the dataset: \n",
      "0    4502\n",
      "1     479\n",
      "Name: HighBloodPressure, dtype: int64\n",
      "After looking for inconsistent data in the dataset: \n",
      "0    4706\n",
      "1     275\n",
      "Name: HeartAttack, dtype: int64\n",
      "After looking for inconsistent data in the dataset: \n",
      "Married      3280\n",
      "Unmarried    1701\n",
      "Name: Marriage, dtype: int64\n",
      "After looking for inconsistent data in the dataset: \n",
      "Private       2860\n",
      "Self           804\n",
      "Children       673\n",
      "Government     644\n",
      "Name: Work, dtype: int64\n",
      "After looking for inconsistent data in the dataset: \n",
      "City           2532\n",
      "CountrySide    2449\n",
      "Name: Residence, dtype: int64\n",
      "After looking for inconsistent data in the dataset: \n",
      "93.88     6\n",
      "73.00     5\n",
      "83.16     5\n",
      "91.85     5\n",
      "72.49     5\n",
      "         ..\n",
      "130.56    1\n",
      "67.78     1\n",
      "116.12    1\n",
      "59.63     1\n",
      "83.94     1\n",
      "Name: GlucoseLevel, Length: 3895, dtype: int64\n",
      "After looking for inconsistent data in the dataset: \n",
      "28.7    42\n",
      "28.4    41\n",
      "27.3    38\n",
      "27.7    37\n",
      "26.7    37\n",
      "        ..\n",
      "48.4     1\n",
      "48.2     1\n",
      "46.6     1\n",
      "40.6     1\n",
      "14.9     1\n",
      "Name: BodyMassIndex, Length: 342, dtype: int64\n",
      "After looking for inconsistent data in the dataset: \n",
      "Never Smoked             1838\n",
      "Unmarried Information    1500\n",
      "Formerly Smoked           867\n",
      "Smoked                    776\n",
      "Name: Smoking, dtype: int64\n",
      "After looking for inconsistent data in the dataset: \n",
      "0    4733\n",
      "1     248\n",
      "Name: BrainStroke, dtype: int64\n",
      "After looking for inconsistent data in the dataset: \n"
     ]
    }
   ],
   "source": [
    "# Looking for incosistent data in the dataset\n",
    "\n",
    "for column in data.columns:\n",
    "    print(\"{}\".format(data[column].value_counts()))\n",
    "    print(\"After looking for inconsistent data in the dataset: \")"
   ]
  },
  {
   "cell_type": "code",
   "execution_count": 10,
   "id": "cfb3c23c",
   "metadata": {},
   "outputs": [
    {
     "name": "stdout",
     "output_type": "stream",
     "text": [
      "Max age of Work(Children) - 16.0\n",
      "\n",
      "Min age of Work(Children) - 0.08\n",
      "\n"
     ]
    }
   ],
   "source": [
    "#Finding Maximum and Minimum of Work as Children\n",
    "print(\"Max age of Work(Children) - {}\\n\".format(data[data['Work'] == \"Children\"]['Age'].max()))\n",
    "print(\"Min age of Work(Children) - {}\\n\".format(data[data['Work'] == \"Children\"]['Age'].min()))"
   ]
  },
  {
   "cell_type": "code",
   "execution_count": 11,
   "id": "51a3543f",
   "metadata": {},
   "outputs": [
    {
     "name": "stdout",
     "output_type": "stream",
     "text": [
      "Columns with value zero.\n",
      "\n"
     ]
    },
    {
     "data": {
      "text/plain": [
       "['Gender', 'Marriage', 'Work', 'Residence', 'Smoking']"
      ]
     },
     "execution_count": 11,
     "metadata": {},
     "output_type": "execute_result"
    }
   ],
   "source": [
    "print(\"Columns with value zero.\\n\")\n",
    "cat_col = [colm for colm in data.columns if data[colm].dtype == \"O\"]\n",
    "cat_col"
   ]
  },
  {
   "cell_type": "code",
   "execution_count": 12,
   "id": "a3c47636",
   "metadata": {},
   "outputs": [
    {
     "name": "stdout",
     "output_type": "stream",
     "text": [
      "Columns\n",
      "\n"
     ]
    },
    {
     "data": {
      "text/html": [
       "<div>\n",
       "<style scoped>\n",
       "    .dataframe tbody tr th:only-of-type {\n",
       "        vertical-align: middle;\n",
       "    }\n",
       "\n",
       "    .dataframe tbody tr th {\n",
       "        vertical-align: top;\n",
       "    }\n",
       "\n",
       "    .dataframe thead th {\n",
       "        text-align: right;\n",
       "    }\n",
       "</style>\n",
       "<table border=\"1\" class=\"dataframe\">\n",
       "  <thead>\n",
       "    <tr style=\"text-align: right;\">\n",
       "      <th></th>\n",
       "      <th>Gender</th>\n",
       "      <th>Marriage</th>\n",
       "      <th>Work</th>\n",
       "      <th>Residence</th>\n",
       "      <th>Smoking</th>\n",
       "    </tr>\n",
       "  </thead>\n",
       "  <tbody>\n",
       "    <tr>\n",
       "      <th>0</th>\n",
       "      <td>Male</td>\n",
       "      <td>Married</td>\n",
       "      <td>Private</td>\n",
       "      <td>City</td>\n",
       "      <td>Formerly Smoked</td>\n",
       "    </tr>\n",
       "    <tr>\n",
       "      <th>1</th>\n",
       "      <td>Male</td>\n",
       "      <td>Married</td>\n",
       "      <td>Private</td>\n",
       "      <td>CountrySide</td>\n",
       "      <td>Never Smoked</td>\n",
       "    </tr>\n",
       "    <tr>\n",
       "      <th>2</th>\n",
       "      <td>Female</td>\n",
       "      <td>Married</td>\n",
       "      <td>Private</td>\n",
       "      <td>City</td>\n",
       "      <td>Smoked</td>\n",
       "    </tr>\n",
       "    <tr>\n",
       "      <th>3</th>\n",
       "      <td>Female</td>\n",
       "      <td>Married</td>\n",
       "      <td>Self</td>\n",
       "      <td>CountrySide</td>\n",
       "      <td>Never Smoked</td>\n",
       "    </tr>\n",
       "    <tr>\n",
       "      <th>4</th>\n",
       "      <td>Male</td>\n",
       "      <td>Married</td>\n",
       "      <td>Private</td>\n",
       "      <td>City</td>\n",
       "      <td>Formerly Smoked</td>\n",
       "    </tr>\n",
       "  </tbody>\n",
       "</table>\n",
       "</div>"
      ],
      "text/plain": [
       "   Gender Marriage     Work    Residence          Smoking\n",
       "0    Male  Married  Private         City  Formerly Smoked\n",
       "1    Male  Married  Private  CountrySide     Never Smoked\n",
       "2  Female  Married  Private         City           Smoked\n",
       "3  Female  Married     Self  CountrySide     Never Smoked\n",
       "4    Male  Married  Private         City  Formerly Smoked"
      ]
     },
     "execution_count": 12,
     "metadata": {},
     "output_type": "execute_result"
    }
   ],
   "source": [
    "print(\"Columns\\n\")\n",
    "data[cat_col].head()"
   ]
  },
  {
   "cell_type": "code",
   "execution_count": 13,
   "id": "77a91d9c",
   "metadata": {},
   "outputs": [
    {
     "name": "stdout",
     "output_type": "stream",
     "text": [
      "\n",
      "Total percentage of people NOT effected by Brain Stroke in this dataset :  95.02\n",
      "\n",
      "Total percentage of people effected by Brain Stroke in this dataset :  4.98\n",
      "\n",
      "\n",
      "Blood Pressure Percentage\n",
      "\n",
      " BrainStroke  HighBloodPressure\n",
      "0            0                    86.73\n",
      "             1                     8.29\n",
      "1            0                     3.65\n",
      "             1                     1.33\n",
      "Name: BrainStroke, dtype: float64\n",
      "\n",
      "\n",
      "Marriage Status Percentage\n",
      "\n",
      " BrainStroke  Marriage \n",
      "0            Married      61.45\n",
      "             Unmarried    33.57\n",
      "1            Married       4.40\n",
      "             Unmarried     0.58\n",
      "Name: BrainStroke, dtype: float64\n",
      "\n",
      "\n",
      "Residence Type Percentage\n",
      "\n",
      " BrainStroke  Residence  \n",
      "0            City           48.12\n",
      "             CountrySide    46.90\n",
      "1            City            2.71\n",
      "             CountrySide     2.27\n",
      "Name: BrainStroke, dtype: float64\n",
      "\n",
      "\n",
      "Gender Percentage\n",
      "\n",
      " BrainStroke  Gender\n",
      "0            Female    55.55\n",
      "             Male      39.47\n",
      "1            Female     2.81\n",
      "             Male       2.17\n",
      "Name: BrainStroke, dtype: float64\n"
     ]
    }
   ],
   "source": [
    "# Analyzing the data\n",
    "TotalData = data['BrainStroke'].count()\n",
    "# Total no of Brain BrainStroke Data\n",
    "TotalY = data[data['BrainStroke'] == 1]['BrainStroke'].count()\n",
    "# Total no of NO Brain BrainStroke Data\n",
    "TotalN = data[data['BrainStroke'] == 0]['BrainStroke'].count()\n",
    "# Total percent of Brain BrainStroke Data\n",
    "TotalYpercent = round(TotalY/TotalData*100,2)\n",
    "# Total percent of NO Brain BrainStroke Data\n",
    "TotalNPercent = round(TotalN/TotalData*100,2)\n",
    "\n",
    "\n",
    "print(\"\\nTotal percentage of people NOT effected by Brain Stroke in this dataset : \",TotalNPercent)\n",
    "print(\"\\nTotal percentage of people effected by Brain Stroke in this dataset : \",TotalYpercent)\n",
    "\n",
    "HypertensionPercent = data.groupby(['BrainStroke','HighBloodPressure']).BrainStroke.agg(lambda x: round(100 * x.count() / TotalData,2))\n",
    "print(\"\\n\\nBlood Pressure Percentage\\n\\n\",HypertensionPercent)\n",
    "\n",
    "EverMarriedPercent = data.groupby(['BrainStroke','Marriage']).BrainStroke.agg(lambda x: round(100 * x.count() / TotalData,2))\n",
    "print(\"\\n\\nMarriage Status Percentage\\n\\n\",EverMarriedPercent)\n",
    "\n",
    "ResidenceTypePercent = data.groupby(['BrainStroke','Residence']).BrainStroke.agg(lambda x: round(100 * x.count() / TotalData,2))\n",
    "print(\"\\n\\nResidence Type Percentage\\n\\n\",ResidenceTypePercent)\n",
    "\n",
    "GenderPercent = data.groupby(['BrainStroke','Gender']).BrainStroke.agg(lambda x: round(100 * x.count() / TotalData,2))\n",
    "print(\"\\n\\nGender Percentage\\n\\n\",GenderPercent)\n"
   ]
  },
  {
   "cell_type": "code",
   "execution_count": 14,
   "id": "ddb31eb7",
   "metadata": {},
   "outputs": [
    {
     "name": "stdout",
     "output_type": "stream",
     "text": [
      "\n",
      "Correlation between Brain Stroke and High Blood Pressure is :  0.13\n",
      "\n",
      "Correlation between Brain Stroke and Age is :  0.25\n",
      "\n",
      "Correlation between Brain Stroke and Body Mass Index is :  0.06\n"
     ]
    }
   ],
   "source": [
    "#Finding Correlations\n",
    "\n",
    "correlation1 = data['BrainStroke'].corr(data['HighBloodPressure'])\n",
    "print(\"\\nCorrelation between Brain Stroke and High Blood Pressure is : \",round(correlation1,2))\n",
    "\n",
    "correlation2 = data['BrainStroke'].corr(data['Age'])\n",
    "print(\"\\nCorrelation between Brain Stroke and Age is : \",round(correlation2,2))\n",
    "\n",
    "correlation3 = data['BrainStroke'].corr(data['BodyMassIndex'])\n",
    "print(\"\\nCorrelation between Brain Stroke and Body Mass Index is : \",round(correlation3,2))"
   ]
  },
  {
   "cell_type": "code",
   "execution_count": 15,
   "id": "33d3cb12",
   "metadata": {},
   "outputs": [
    {
     "data": {
      "image/png": "[encoded data removed]",
      "text/plain": [
       "<Figure size 1600x600 with 4 Axes>"
      ]
     },
     "metadata": {},
     "output_type": "display_data"
    }
   ],
   "source": [
    "plt.figure(figsize=(16,6))\n",
    "plt.subplot(121)\n",
    "plt.title=\"Among Brain Stroke patients\"\n",
    "dataY = data.loc[data['BrainStroke']==1]\n",
    "Correlation1 = dataY[['Age','HighBloodPressure','BodyMassIndex']]\n",
    "axis1 = sns.heatmap(Correlation1.corr(), annot=True, cmap=\"bone\") \n",
    "axis1.set(title='Figure 1:\\nCorrelations: \\nAmong Brain Stroke patient only')\n",
    "plt.subplot(122)\n",
    "dataN = data.loc[data['BrainStroke']==0]\n",
    "Correlation2 = dataN[['Age','HighBloodPressure','BodyMassIndex']]\n",
    "axis2 = sns.heatmap(Correlation2.corr(), annot=True, cmap=\"bone\") \n",
    "axis2.set(title='Figure 2:\\nCorrelations: \\nAmong Non-Brain Stroke patient only')\n",
    "plt.show()"
   ]
  },
  {
   "cell_type": "code",
   "execution_count": 16,
   "id": "96f29e0b",
   "metadata": {},
   "outputs": [
    {
     "data": {
      "text/plain": [
       "[Text(0.5, 1.0, 'Figure:\\nPercentage of patients having following characteristics\\nFor Brain Stroke patients only')]"
      ]
     },
     "execution_count": 16,
     "metadata": {},
     "output_type": "execute_result"
    },
    {
     "data": {
      "image/png": "[encoded data removed]",
      "text/plain": [
       "<Figure size 1000x800 with 1 Axes>"
      ]
     },
     "metadata": {},
     "output_type": "display_data"
    }
   ],
   "source": [
    "# To understand how many among BS patients have following stated characteristics. The output will be in percentages.\n",
    "\n",
    "a = round(pd.DataFrame(HypertensionPercent).loc[1,1] /4.98 *100,2).rename(index={'BrainStroke':'HighBloodPressure (Y)'})\n",
    "b = round(pd.DataFrame(GenderPercent).loc[1,'Male'] /4.98 *100,2).rename(index={'BrainStroke':'Male'})\n",
    "c = round(pd.DataFrame(GenderPercent).loc[1,'Female'] /4.98 *100,2).rename(index={'BrainStroke':'Female'})\n",
    "dataSummary = pd.DataFrame(pd.concat([a,b,c])).set_axis(['valuePercent'], axis=1)\n",
    "dataSummary = dataSummary.sort_values(by='valuePercent', ascending=False)\n",
    "\n",
    "plt.figure(figsize=(10,8))\n",
    "# plt.title = \"Characteristics of Brain Stroke pateints in percentage\"\n",
    "ax = sns.barplot(y=dataSummary.index, x=dataSummary['valuePercent'], palette = \"bone\")\n",
    "for i in ax.containers:\n",
    "    ax.bar_label(i)\n",
    "ax.set(title=\"Figure:\\nPercentage of patients having following characteristics\\nFor Brain Stroke patients only\")"
   ]
  },
  {
   "cell_type": "code",
   "execution_count": 17,
   "id": "387eab72",
   "metadata": {},
   "outputs": [
    {
     "data": {
      "image/png": "[encoded data removed]",
      "text/plain": [
       "<Figure size 640x480 with 1 Axes>"
      ]
     },
     "metadata": {},
     "output_type": "display_data"
    }
   ],
   "source": [
    "# BMI analysis among patients\n",
    "\n",
    "AverageBMI = data[['BrainStroke','BodyMassIndex']].copy()\n",
    "AverageBMI['bins'] = pd.cut(x=AverageBMI['BodyMassIndex'], bins=[0, 18.5, 24.9, 29.0, 50] ,\n",
    "                                  labels=['Underweight','Healthy','Overweight', 'Obese'])\n",
    "\n",
    "AverageBMI1 = AverageBMI.groupby(['BrainStroke','bins']).size().reset_index()\n",
    "\n",
    "AverageBMI1.rename(columns={'bins':'category_based_on_bmi', 0:'No_in_percent'}, inplace=True)\n",
    "\n",
    "AverageBMI1['No_in_percent'] = np.where(AverageBMI1['BrainStroke'] == 1,\n",
    "                                               round(AverageBMI1['No_in_percent']/TotalY*100,2),\n",
    "                                               round(AverageBMI1['No_in_percent']/TotalN*100,2))\n",
    "\n",
    "\n",
    "ax = sns.barplot(x = 'category_based_on_bmi', y = 'No_in_percent', hue = 'BrainStroke', data = AverageBMI1, palette = \"bone\")\n",
    "ax.set(title=\"Figure:\\nPercentage of patients in different groups based on BMI\\nAmong Brain Stroke and Non-Brain Stroke patients\")\n",
    "for i in ax.containers:\n",
    "    ax.bar_label(i)"
   ]
  },
  {
   "cell_type": "code",
   "execution_count": 18,
   "id": "a7243d3b-a3f2-4a32-905f-af524ae58bfb",
   "metadata": {},
   "outputs": [
    {
     "name": "stdout",
     "output_type": "stream",
     "text": [
      "Analysis based on Gender\n",
      "\n",
      "Here, we are doing the analysis for the given data set where we are comparing the brain stroke data with the gender as shown below in the graph.\n",
      "\n"
     ]
    },
    {
     "data": {
      "image/png": "[encoded data removed]",
      "text/plain": [
       "<Figure size 500x300 with 1 Axes>"
      ]
     },
     "metadata": {},
     "output_type": "display_data"
    }
   ],
   "source": [
    "## Analysis based on Gender\n",
    "print(\"Analysis based on Gender\\n\")\n",
    "print(\"Here, we are doing the analysis for the given data set where we are comparing the brain stroke data with the gender as shown below in the graph.\\n\")\n",
    "plt.figure(figsize = (5,3))\n",
    "sns.countplot(data=data,x='Gender',hue='BrainStroke')\n",
    "plt.xlabel(\"Gender\",fontsize = 10)\n",
    "plt.show()"
   ]
  },
  {
   "cell_type": "code",
   "execution_count": 19,
   "id": "e488f51a-b3e3-4bda-ab75-60aa3bd79dd8",
   "metadata": {},
   "outputs": [
    {
     "name": "stdout",
     "output_type": "stream",
     "text": [
      "To check Ever married.\n",
      "\n",
      "We are doing the analysis for the given data set where we are checking whether the individual patients are ever married or not.\n",
      "\n"
     ]
    },
    {
     "data": {
      "text/plain": [
       "Married      3280\n",
       "Unmarried    1701\n",
       "Name: Marriage, dtype: int64"
      ]
     },
     "execution_count": 19,
     "metadata": {},
     "output_type": "execute_result"
    }
   ],
   "source": [
    "#To check Ever married\n",
    "\n",
    "print(\"To check Ever married.\\n\")\n",
    "print(\"We are doing the analysis for the given data set where we are checking whether the individual patients are ever married or not.\\n\")\n",
    "data['Marriage'].value_counts()"
   ]
  },
  {
   "cell_type": "code",
   "execution_count": 20,
   "id": "944f9d94-9719-4553-bf2d-941590eeb474",
   "metadata": {},
   "outputs": [
    {
     "name": "stdout",
     "output_type": "stream",
     "text": [
      "Output:\n",
      "\n"
     ]
    },
    {
     "data": {
      "text/plain": [
       "Private       2860\n",
       "Self           804\n",
       "Children       673\n",
       "Government     644\n",
       "Name: Work, dtype: int64"
      ]
     },
     "execution_count": 20,
     "metadata": {},
     "output_type": "execute_result"
    }
   ],
   "source": [
    "print(\"Output:\\n\")\n",
    "data['Work'].value_counts()"
   ]
  },
  {
   "cell_type": "code",
   "execution_count": 21,
   "id": "21707daf-4c19-4e45-8bf7-863f50090276",
   "metadata": {},
   "outputs": [
    {
     "name": "stdout",
     "output_type": "stream",
     "text": [
      "Comparing with Work Status.\n",
      "\n",
      "We are doing the analysis for the given data set when comparing the Work status of individual patients and Brain stroke data available. It shows the number of people who got brain stroke based on the type of work they are doing.\n",
      "\n"
     ]
    },
    {
     "data": {
      "image/png": "[encoded data removed]",
      "text/plain": [
       "<Figure size 600x400 with 1 Axes>"
      ]
     },
     "metadata": {},
     "output_type": "display_data"
    }
   ],
   "source": [
    "print(\"Comparing with Work Status.\\n\")\n",
    "print(\"We are doing the analysis for the given data set when comparing the Work status of individual patients and Brain stroke data available. It shows the number of people who got brain stroke based on the type of work they are doing.\\n\")\n",
    "plt.figure(figsize=(6,4))\n",
    "sns.countplot(data=data,x='Work',hue='BrainStroke')\n",
    "plt.xlabel(\"Work\",fontsize = 10)\n",
    "plt.show()"
   ]
  },
  {
   "cell_type": "code",
   "execution_count": 22,
   "id": "dd20b2b6-64c2-4fa4-8d73-d027491419e5",
   "metadata": {},
   "outputs": [
    {
     "name": "stdout",
     "output_type": "stream",
     "text": [
      "Analysis based on Smoking\n",
      "\n",
      "We are doing the analysis for the given data set where we are comparing the brain stroke data with the smoking status as shown below in the graph.\n",
      "\n"
     ]
    },
    {
     "data": {
      "image/png": "[encoded data removed]",
      "text/plain": [
       "<Figure size 600x500 with 1 Axes>"
      ]
     },
     "metadata": {},
     "output_type": "display_data"
    }
   ],
   "source": [
    "print(\"Analysis based on Smoking\\n\")\n",
    "print(\"We are doing the analysis for the given data set where we are comparing the brain stroke data with the smoking status as shown below in the graph.\\n\")\n",
    "plt.figure(figsize=(6,5))\n",
    "sns.countplot(data=data,x='Smoking',hue='BrainStroke')\n",
    "plt.show()"
   ]
  },
  {
   "cell_type": "code",
   "execution_count": 23,
   "id": "719dcf6c-924e-4159-b02a-5888b61cfa4a",
   "metadata": {},
   "outputs": [
    {
     "name": "stdout",
     "output_type": "stream",
     "text": [
      "To determine the number of female stroke victims and the smoking status of those who have never smoked.\n",
      "\n"
     ]
    },
    {
     "data": {
      "text/html": [
       "<div>\n",
       "<style scoped>\n",
       "    .dataframe tbody tr th:only-of-type {\n",
       "        vertical-align: middle;\n",
       "    }\n",
       "\n",
       "    .dataframe tbody tr th {\n",
       "        vertical-align: top;\n",
       "    }\n",
       "\n",
       "    .dataframe thead th {\n",
       "        text-align: right;\n",
       "    }\n",
       "</style>\n",
       "<table border=\"1\" class=\"dataframe\">\n",
       "  <thead>\n",
       "    <tr style=\"text-align: right;\">\n",
       "      <th></th>\n",
       "      <th>Gender</th>\n",
       "      <th>Age</th>\n",
       "      <th>HighBloodPressure</th>\n",
       "      <th>HeartAttack</th>\n",
       "      <th>Marriage</th>\n",
       "      <th>Work</th>\n",
       "      <th>Residence</th>\n",
       "      <th>GlucoseLevel</th>\n",
       "      <th>BodyMassIndex</th>\n",
       "      <th>Smoking</th>\n",
       "      <th>BrainStroke</th>\n",
       "    </tr>\n",
       "  </thead>\n",
       "  <tbody>\n",
       "    <tr>\n",
       "      <th>3</th>\n",
       "      <td>Female</td>\n",
       "      <td>79.0</td>\n",
       "      <td>1</td>\n",
       "      <td>0</td>\n",
       "      <td>Married</td>\n",
       "      <td>Self</td>\n",
       "      <td>CountrySide</td>\n",
       "      <td>174.12</td>\n",
       "      <td>24.0</td>\n",
       "      <td>Never Smoked</td>\n",
       "      <td>1</td>\n",
       "    </tr>\n",
       "    <tr>\n",
       "      <th>6</th>\n",
       "      <td>Female</td>\n",
       "      <td>69.0</td>\n",
       "      <td>0</td>\n",
       "      <td>0</td>\n",
       "      <td>Unmarried</td>\n",
       "      <td>Private</td>\n",
       "      <td>City</td>\n",
       "      <td>94.39</td>\n",
       "      <td>22.8</td>\n",
       "      <td>Never Smoked</td>\n",
       "      <td>1</td>\n",
       "    </tr>\n",
       "    <tr>\n",
       "      <th>8</th>\n",
       "      <td>Female</td>\n",
       "      <td>81.0</td>\n",
       "      <td>1</td>\n",
       "      <td>0</td>\n",
       "      <td>Married</td>\n",
       "      <td>Private</td>\n",
       "      <td>CountrySide</td>\n",
       "      <td>80.43</td>\n",
       "      <td>29.7</td>\n",
       "      <td>Never Smoked</td>\n",
       "      <td>1</td>\n",
       "    </tr>\n",
       "    <tr>\n",
       "      <th>11</th>\n",
       "      <td>Female</td>\n",
       "      <td>79.0</td>\n",
       "      <td>0</td>\n",
       "      <td>1</td>\n",
       "      <td>Married</td>\n",
       "      <td>Private</td>\n",
       "      <td>City</td>\n",
       "      <td>214.09</td>\n",
       "      <td>28.2</td>\n",
       "      <td>Never Smoked</td>\n",
       "      <td>1</td>\n",
       "    </tr>\n",
       "    <tr>\n",
       "      <th>12</th>\n",
       "      <td>Female</td>\n",
       "      <td>50.0</td>\n",
       "      <td>1</td>\n",
       "      <td>0</td>\n",
       "      <td>Married</td>\n",
       "      <td>Self</td>\n",
       "      <td>CountrySide</td>\n",
       "      <td>167.41</td>\n",
       "      <td>30.9</td>\n",
       "      <td>Never Smoked</td>\n",
       "      <td>1</td>\n",
       "    </tr>\n",
       "  </tbody>\n",
       "</table>\n",
       "</div>"
      ],
      "text/plain": [
       "    Gender   Age  HighBloodPressure  HeartAttack   Marriage     Work  \\\n",
       "3   Female  79.0                  1            0    Married     Self   \n",
       "6   Female  69.0                  0            0  Unmarried  Private   \n",
       "8   Female  81.0                  1            0    Married  Private   \n",
       "11  Female  79.0                  0            1    Married  Private   \n",
       "12  Female  50.0                  1            0    Married     Self   \n",
       "\n",
       "      Residence  GlucoseLevel  BodyMassIndex       Smoking  BrainStroke  \n",
       "3   CountrySide        174.12           24.0  Never Smoked            1  \n",
       "6          City         94.39           22.8  Never Smoked            1  \n",
       "8   CountrySide         80.43           29.7  Never Smoked            1  \n",
       "11         City        214.09           28.2  Never Smoked            1  \n",
       "12  CountrySide        167.41           30.9  Never Smoked            1  "
      ]
     },
     "execution_count": 23,
     "metadata": {},
     "output_type": "execute_result"
    }
   ],
   "source": [
    "# To determine the number of female stroke victims and the smoking status of those who have never smoked.\n",
    "\n",
    "print(\"To determine the number of female stroke victims and the smoking status of those who have never smoked.\\n\")\n",
    "df=data.loc[(data[\"Gender\"]==\"Female\")&(data[\"BrainStroke\"]==1)&(data[\"Smoking\"]==\"Never Smoked\")]\n",
    "df.head()"
   ]
  },
  {
   "cell_type": "code",
   "execution_count": 24,
   "id": "273c4b0f",
   "metadata": {
    "scrolled": true
   },
   "outputs": [
    {
     "data": {
      "text/html": [
       "<div>\n",
       "<style scoped>\n",
       "    .dataframe tbody tr th:only-of-type {\n",
       "        vertical-align: middle;\n",
       "    }\n",
       "\n",
       "    .dataframe tbody tr th {\n",
       "        vertical-align: top;\n",
       "    }\n",
       "\n",
       "    .dataframe thead th {\n",
       "        text-align: right;\n",
       "    }\n",
       "</style>\n",
       "<table border=\"1\" class=\"dataframe\">\n",
       "  <thead>\n",
       "    <tr style=\"text-align: right;\">\n",
       "      <th></th>\n",
       "      <th></th>\n",
       "      <th>Age</th>\n",
       "      <th>BodyMassIndex</th>\n",
       "      <th>BrainStroke</th>\n",
       "      <th>GlucoseLevel</th>\n",
       "      <th>HeartAttack</th>\n",
       "      <th>HighBloodPressure</th>\n",
       "    </tr>\n",
       "    <tr>\n",
       "      <th>Work</th>\n",
       "      <th>Smoking</th>\n",
       "      <th></th>\n",
       "      <th></th>\n",
       "      <th></th>\n",
       "      <th></th>\n",
       "      <th></th>\n",
       "      <th></th>\n",
       "    </tr>\n",
       "  </thead>\n",
       "  <tbody>\n",
       "    <tr>\n",
       "      <th>Government</th>\n",
       "      <th>Never Smoked</th>\n",
       "      <td>64.500000</td>\n",
       "      <td>32.525000</td>\n",
       "      <td>1</td>\n",
       "      <td>147.238750</td>\n",
       "      <td>0.000000</td>\n",
       "      <td>0.25000</td>\n",
       "    </tr>\n",
       "    <tr>\n",
       "      <th>Private</th>\n",
       "      <th>Never Smoked</th>\n",
       "      <td>70.312500</td>\n",
       "      <td>29.846875</td>\n",
       "      <td>1</td>\n",
       "      <td>128.346875</td>\n",
       "      <td>0.156250</td>\n",
       "      <td>0.28125</td>\n",
       "    </tr>\n",
       "    <tr>\n",
       "      <th>Self</th>\n",
       "      <th>Never Smoked</th>\n",
       "      <td>71.863636</td>\n",
       "      <td>29.586364</td>\n",
       "      <td>1</td>\n",
       "      <td>120.599545</td>\n",
       "      <td>0.090909</td>\n",
       "      <td>0.50000</td>\n",
       "    </tr>\n",
       "  </tbody>\n",
       "</table>\n",
       "</div>"
      ],
      "text/plain": [
       "                               Age  BodyMassIndex  BrainStroke  GlucoseLevel  \\\n",
       "Work       Smoking                                                             \n",
       "Government Never Smoked  64.500000      32.525000            1    147.238750   \n",
       "Private    Never Smoked  70.312500      29.846875            1    128.346875   \n",
       "Self       Never Smoked  71.863636      29.586364            1    120.599545   \n",
       "\n",
       "                         HeartAttack  HighBloodPressure  \n",
       "Work       Smoking                                       \n",
       "Government Never Smoked     0.000000            0.25000  \n",
       "Private    Never Smoked     0.156250            0.28125  \n",
       "Self       Never Smoked     0.090909            0.50000  "
      ]
     },
     "execution_count": 24,
     "metadata": {},
     "output_type": "execute_result"
    }
   ],
   "source": [
    "output=pd.pivot_table(df,index=[\"Work\",\"Smoking\"])\n",
    "output"
   ]
  },
  {
   "cell_type": "code",
   "execution_count": 25,
   "id": "51348fb0",
   "metadata": {},
   "outputs": [
    {
     "name": "stdout",
     "output_type": "stream",
     "text": [
      "Output:\n"
     ]
    },
    {
     "data": {
      "text/plain": [
       "Private       32\n",
       "Self          22\n",
       "Government     8\n",
       "Name: Work, dtype: int64"
      ]
     },
     "execution_count": 25,
     "metadata": {},
     "output_type": "execute_result"
    }
   ],
   "source": [
    "print(\"Output:\")\n",
    "df[\"Work\"].value_counts()"
   ]
  },
  {
   "cell_type": "code",
   "execution_count": 26,
   "id": "0b50a744",
   "metadata": {},
   "outputs": [
    {
     "name": "stdout",
     "output_type": "stream",
     "text": [
      "To determine the number of men who have had strokes and the smoking status of those who have never smoked.\n",
      "\n"
     ]
    },
    {
     "data": {
      "text/html": [
       "<div>\n",
       "<style scoped>\n",
       "    .dataframe tbody tr th:only-of-type {\n",
       "        vertical-align: middle;\n",
       "    }\n",
       "\n",
       "    .dataframe tbody tr th {\n",
       "        vertical-align: top;\n",
       "    }\n",
       "\n",
       "    .dataframe thead th {\n",
       "        text-align: right;\n",
       "    }\n",
       "</style>\n",
       "<table border=\"1\" class=\"dataframe\">\n",
       "  <thead>\n",
       "    <tr style=\"text-align: right;\">\n",
       "      <th></th>\n",
       "      <th>Gender</th>\n",
       "      <th>Age</th>\n",
       "      <th>HighBloodPressure</th>\n",
       "      <th>HeartAttack</th>\n",
       "      <th>Marriage</th>\n",
       "      <th>Work</th>\n",
       "      <th>Residence</th>\n",
       "      <th>GlucoseLevel</th>\n",
       "      <th>BodyMassIndex</th>\n",
       "      <th>Smoking</th>\n",
       "      <th>BrainStroke</th>\n",
       "    </tr>\n",
       "  </thead>\n",
       "  <tbody>\n",
       "    <tr>\n",
       "      <th>1</th>\n",
       "      <td>Male</td>\n",
       "      <td>80.0</td>\n",
       "      <td>0</td>\n",
       "      <td>1</td>\n",
       "      <td>Married</td>\n",
       "      <td>Private</td>\n",
       "      <td>CountrySide</td>\n",
       "      <td>105.92</td>\n",
       "      <td>32.5</td>\n",
       "      <td>Never Smoked</td>\n",
       "      <td>1</td>\n",
       "    </tr>\n",
       "    <tr>\n",
       "      <th>5</th>\n",
       "      <td>Male</td>\n",
       "      <td>74.0</td>\n",
       "      <td>1</td>\n",
       "      <td>1</td>\n",
       "      <td>Married</td>\n",
       "      <td>Private</td>\n",
       "      <td>CountrySide</td>\n",
       "      <td>70.09</td>\n",
       "      <td>27.4</td>\n",
       "      <td>Never Smoked</td>\n",
       "      <td>1</td>\n",
       "    </tr>\n",
       "    <tr>\n",
       "      <th>21</th>\n",
       "      <td>Male</td>\n",
       "      <td>80.0</td>\n",
       "      <td>0</td>\n",
       "      <td>0</td>\n",
       "      <td>Married</td>\n",
       "      <td>Self</td>\n",
       "      <td>CountrySide</td>\n",
       "      <td>104.12</td>\n",
       "      <td>23.5</td>\n",
       "      <td>Never Smoked</td>\n",
       "      <td>1</td>\n",
       "    </tr>\n",
       "    <tr>\n",
       "      <th>28</th>\n",
       "      <td>Male</td>\n",
       "      <td>48.0</td>\n",
       "      <td>0</td>\n",
       "      <td>0</td>\n",
       "      <td>Unmarried</td>\n",
       "      <td>Government</td>\n",
       "      <td>City</td>\n",
       "      <td>84.20</td>\n",
       "      <td>29.7</td>\n",
       "      <td>Never Smoked</td>\n",
       "      <td>1</td>\n",
       "    </tr>\n",
       "    <tr>\n",
       "      <th>35</th>\n",
       "      <td>Male</td>\n",
       "      <td>54.0</td>\n",
       "      <td>0</td>\n",
       "      <td>0</td>\n",
       "      <td>Married</td>\n",
       "      <td>Private</td>\n",
       "      <td>City</td>\n",
       "      <td>71.22</td>\n",
       "      <td>28.5</td>\n",
       "      <td>Never Smoked</td>\n",
       "      <td>1</td>\n",
       "    </tr>\n",
       "  </tbody>\n",
       "</table>\n",
       "</div>"
      ],
      "text/plain": [
       "   Gender   Age  HighBloodPressure  HeartAttack   Marriage        Work  \\\n",
       "1    Male  80.0                  0            1    Married     Private   \n",
       "5    Male  74.0                  1            1    Married     Private   \n",
       "21   Male  80.0                  0            0    Married        Self   \n",
       "28   Male  48.0                  0            0  Unmarried  Government   \n",
       "35   Male  54.0                  0            0    Married     Private   \n",
       "\n",
       "      Residence  GlucoseLevel  BodyMassIndex       Smoking  BrainStroke  \n",
       "1   CountrySide        105.92           32.5  Never Smoked            1  \n",
       "5   CountrySide         70.09           27.4  Never Smoked            1  \n",
       "21  CountrySide        104.12           23.5  Never Smoked            1  \n",
       "28         City         84.20           29.7  Never Smoked            1  \n",
       "35         City         71.22           28.5  Never Smoked            1  "
      ]
     },
     "execution_count": 26,
     "metadata": {},
     "output_type": "execute_result"
    }
   ],
   "source": [
    "# To determine the number of men who have had strokes and the smoking status of those who have never smoked.\n",
    "\n",
    "print(\"To determine the number of men who have had strokes and the smoking status of those who have never smoked.\\n\")\n",
    "dm=data.loc[(data[\"Gender\"]==\"Male\")&(data[\"BrainStroke\"]==1)&(data[\"Smoking\"]==\"Never Smoked\")]\n",
    "dm.head()"
   ]
  },
  {
   "cell_type": "code",
   "execution_count": 27,
   "id": "c1a96e1f",
   "metadata": {},
   "outputs": [
    {
     "data": {
      "text/html": [
       "<div>\n",
       "<style scoped>\n",
       "    .dataframe tbody tr th:only-of-type {\n",
       "        vertical-align: middle;\n",
       "    }\n",
       "\n",
       "    .dataframe tbody tr th {\n",
       "        vertical-align: top;\n",
       "    }\n",
       "\n",
       "    .dataframe thead th {\n",
       "        text-align: right;\n",
       "    }\n",
       "</style>\n",
       "<table border=\"1\" class=\"dataframe\">\n",
       "  <thead>\n",
       "    <tr style=\"text-align: right;\">\n",
       "      <th></th>\n",
       "      <th></th>\n",
       "      <th>Age</th>\n",
       "      <th>BodyMassIndex</th>\n",
       "      <th>BrainStroke</th>\n",
       "      <th>GlucoseLevel</th>\n",
       "      <th>HeartAttack</th>\n",
       "      <th>HighBloodPressure</th>\n",
       "    </tr>\n",
       "    <tr>\n",
       "      <th>Work</th>\n",
       "      <th>Smoking</th>\n",
       "      <th></th>\n",
       "      <th></th>\n",
       "      <th></th>\n",
       "      <th></th>\n",
       "      <th></th>\n",
       "      <th></th>\n",
       "    </tr>\n",
       "  </thead>\n",
       "  <tbody>\n",
       "    <tr>\n",
       "      <th>Government</th>\n",
       "      <th>Never Smoked</th>\n",
       "      <td>68.500000</td>\n",
       "      <td>28.550</td>\n",
       "      <td>1</td>\n",
       "      <td>156.1375</td>\n",
       "      <td>0.750000</td>\n",
       "      <td>0.250000</td>\n",
       "    </tr>\n",
       "    <tr>\n",
       "      <th>Private</th>\n",
       "      <th>Never Smoked</th>\n",
       "      <td>69.666667</td>\n",
       "      <td>30.600</td>\n",
       "      <td>1</td>\n",
       "      <td>148.8040</td>\n",
       "      <td>0.133333</td>\n",
       "      <td>0.466667</td>\n",
       "    </tr>\n",
       "    <tr>\n",
       "      <th>Self</th>\n",
       "      <th>Never Smoked</th>\n",
       "      <td>77.125000</td>\n",
       "      <td>30.075</td>\n",
       "      <td>1</td>\n",
       "      <td>117.8425</td>\n",
       "      <td>0.000000</td>\n",
       "      <td>0.250000</td>\n",
       "    </tr>\n",
       "  </tbody>\n",
       "</table>\n",
       "</div>"
      ],
      "text/plain": [
       "                               Age  BodyMassIndex  BrainStroke  GlucoseLevel  \\\n",
       "Work       Smoking                                                             \n",
       "Government Never Smoked  68.500000         28.550            1      156.1375   \n",
       "Private    Never Smoked  69.666667         30.600            1      148.8040   \n",
       "Self       Never Smoked  77.125000         30.075            1      117.8425   \n",
       "\n",
       "                         HeartAttack  HighBloodPressure  \n",
       "Work       Smoking                                       \n",
       "Government Never Smoked     0.750000           0.250000  \n",
       "Private    Never Smoked     0.133333           0.466667  \n",
       "Self       Never Smoked     0.000000           0.250000  "
      ]
     },
     "execution_count": 27,
     "metadata": {},
     "output_type": "execute_result"
    }
   ],
   "source": [
    "output1=pd.pivot_table(dm,index=[\"Work\",\"Smoking\"])\n",
    "output1"
   ]
  },
  {
   "cell_type": "code",
   "execution_count": 28,
   "id": "1cb5e4e0",
   "metadata": {},
   "outputs": [
    {
     "name": "stdout",
     "output_type": "stream",
     "text": [
      "Output:\n",
      "\n"
     ]
    },
    {
     "data": {
      "text/plain": [
       "Private       15\n",
       "Self           8\n",
       "Government     4\n",
       "Name: Work, dtype: int64"
      ]
     },
     "execution_count": 28,
     "metadata": {},
     "output_type": "execute_result"
    }
   ],
   "source": [
    "print(\"Output:\\n\")\n",
    "dm[\"Work\"].value_counts()"
   ]
  },
  {
   "cell_type": "code",
   "execution_count": 29,
   "id": "148bee15",
   "metadata": {},
   "outputs": [
    {
     "name": "stdout",
     "output_type": "stream",
     "text": [
      "Compute the average BMI of men and women based on their Job category\n",
      "\n"
     ]
    }
   ],
   "source": [
    "## Compute the average BMI of men and women based on their Job category.\n",
    "\n",
    "print(\"Compute the average BMI of men and women based on their Job category\\n\")\n",
    "age_cat=[]\n",
    "for x in data[\"Age\"]:\n",
    "    if 0<=x<=10:\n",
    "        age_cat.append(\"child\")\n",
    "    elif 11<=x<=20: \n",
    "        age_cat.append(\"young\")\n",
    "    else:\n",
    "        age_cat.append(\"Older\")"
   ]
  },
  {
   "cell_type": "code",
   "execution_count": 30,
   "id": "7ec2a90e",
   "metadata": {},
   "outputs": [
    {
     "data": {
      "text/html": [
       "<div>\n",
       "<style scoped>\n",
       "    .dataframe tbody tr th:only-of-type {\n",
       "        vertical-align: middle;\n",
       "    }\n",
       "\n",
       "    .dataframe tbody tr th {\n",
       "        vertical-align: top;\n",
       "    }\n",
       "\n",
       "    .dataframe thead th {\n",
       "        text-align: right;\n",
       "    }\n",
       "</style>\n",
       "<table border=\"1\" class=\"dataframe\">\n",
       "  <thead>\n",
       "    <tr style=\"text-align: right;\">\n",
       "      <th></th>\n",
       "      <th>Gender</th>\n",
       "      <th>Age</th>\n",
       "      <th>AgeCategory</th>\n",
       "      <th>HighBloodPressure</th>\n",
       "      <th>HeartAttack</th>\n",
       "      <th>Marriage</th>\n",
       "      <th>Work</th>\n",
       "      <th>Residence</th>\n",
       "      <th>GlucoseLevel</th>\n",
       "      <th>BodyMassIndex</th>\n",
       "      <th>Smoking</th>\n",
       "      <th>BrainStroke</th>\n",
       "    </tr>\n",
       "  </thead>\n",
       "  <tbody>\n",
       "    <tr>\n",
       "      <th>0</th>\n",
       "      <td>Male</td>\n",
       "      <td>67.0</td>\n",
       "      <td>Older</td>\n",
       "      <td>0</td>\n",
       "      <td>1</td>\n",
       "      <td>Married</td>\n",
       "      <td>Private</td>\n",
       "      <td>City</td>\n",
       "      <td>228.69</td>\n",
       "      <td>36.6</td>\n",
       "      <td>Formerly Smoked</td>\n",
       "      <td>1</td>\n",
       "    </tr>\n",
       "    <tr>\n",
       "      <th>1</th>\n",
       "      <td>Male</td>\n",
       "      <td>80.0</td>\n",
       "      <td>Older</td>\n",
       "      <td>0</td>\n",
       "      <td>1</td>\n",
       "      <td>Married</td>\n",
       "      <td>Private</td>\n",
       "      <td>CountrySide</td>\n",
       "      <td>105.92</td>\n",
       "      <td>32.5</td>\n",
       "      <td>Never Smoked</td>\n",
       "      <td>1</td>\n",
       "    </tr>\n",
       "    <tr>\n",
       "      <th>2</th>\n",
       "      <td>Female</td>\n",
       "      <td>49.0</td>\n",
       "      <td>Older</td>\n",
       "      <td>0</td>\n",
       "      <td>0</td>\n",
       "      <td>Married</td>\n",
       "      <td>Private</td>\n",
       "      <td>City</td>\n",
       "      <td>171.23</td>\n",
       "      <td>34.4</td>\n",
       "      <td>Smoked</td>\n",
       "      <td>1</td>\n",
       "    </tr>\n",
       "    <tr>\n",
       "      <th>3</th>\n",
       "      <td>Female</td>\n",
       "      <td>79.0</td>\n",
       "      <td>Older</td>\n",
       "      <td>1</td>\n",
       "      <td>0</td>\n",
       "      <td>Married</td>\n",
       "      <td>Self</td>\n",
       "      <td>CountrySide</td>\n",
       "      <td>174.12</td>\n",
       "      <td>24.0</td>\n",
       "      <td>Never Smoked</td>\n",
       "      <td>1</td>\n",
       "    </tr>\n",
       "    <tr>\n",
       "      <th>4</th>\n",
       "      <td>Male</td>\n",
       "      <td>81.0</td>\n",
       "      <td>Older</td>\n",
       "      <td>0</td>\n",
       "      <td>0</td>\n",
       "      <td>Married</td>\n",
       "      <td>Private</td>\n",
       "      <td>City</td>\n",
       "      <td>186.21</td>\n",
       "      <td>29.0</td>\n",
       "      <td>Formerly Smoked</td>\n",
       "      <td>1</td>\n",
       "    </tr>\n",
       "  </tbody>\n",
       "</table>\n",
       "</div>"
      ],
      "text/plain": [
       "   Gender   Age AgeCategory  HighBloodPressure  HeartAttack Marriage     Work  \\\n",
       "0    Male  67.0       Older                  0            1  Married  Private   \n",
       "1    Male  80.0       Older                  0            1  Married  Private   \n",
       "2  Female  49.0       Older                  0            0  Married  Private   \n",
       "3  Female  79.0       Older                  1            0  Married     Self   \n",
       "4    Male  81.0       Older                  0            0  Married  Private   \n",
       "\n",
       "     Residence  GlucoseLevel  BodyMassIndex          Smoking  BrainStroke  \n",
       "0         City        228.69           36.6  Formerly Smoked            1  \n",
       "1  CountrySide        105.92           32.5     Never Smoked            1  \n",
       "2         City        171.23           34.4           Smoked            1  \n",
       "3  CountrySide        174.12           24.0     Never Smoked            1  \n",
       "4         City        186.21           29.0  Formerly Smoked            1  "
      ]
     },
     "execution_count": 30,
     "metadata": {},
     "output_type": "execute_result"
    }
   ],
   "source": [
    "#Inserting a column for categorizing age.\n",
    "\n",
    "data.insert(2,\"AgeCategory\",age_cat)\n",
    "data.head()"
   ]
  },
  {
   "cell_type": "code",
   "execution_count": 31,
   "id": "3d54ab49",
   "metadata": {},
   "outputs": [
    {
     "data": {
      "text/plain": [
       "AgeCategory\n",
       "Older    30.070073\n",
       "child    19.100000\n",
       "young    25.178384\n",
       "Name: BodyMassIndex, dtype: float64"
      ]
     },
     "execution_count": 31,
     "metadata": {},
     "output_type": "execute_result"
    }
   ],
   "source": [
    "#Grouping them by Age Category and Body Mass Index\n",
    "\n",
    "data.groupby(\"AgeCategory\")['BodyMassIndex'].mean()"
   ]
  },
  {
   "cell_type": "code",
   "execution_count": 32,
   "id": "58700ce6",
   "metadata": {},
   "outputs": [
    {
     "name": "stdout",
     "output_type": "stream",
     "text": [
      "Average BMI of men and women based on their Job category.\n"
     ]
    },
    {
     "data": {
      "text/plain": [
       "Work\n",
       "Children      20.179346\n",
       "Government    30.037733\n",
       "Private       29.736713\n",
       "Self          29.822637\n",
       "Name: BodyMassIndex, dtype: float64"
      ]
     },
     "execution_count": 32,
     "metadata": {},
     "output_type": "execute_result"
    }
   ],
   "source": [
    "#Grouping them by Job Category and Body Mass Index\n",
    "print(\"Average BMI of men and women based on their Job category.\")\n",
    "data.groupby(\"Work\")['BodyMassIndex'].mean()"
   ]
  },
  {
   "cell_type": "code",
   "execution_count": 33,
   "id": "77c9beff",
   "metadata": {},
   "outputs": [
    {
     "data": {
      "text/plain": [
       "Index(['Gender', 'Age', 'AgeCategory', 'HighBloodPressure', 'HeartAttack',\n",
       "       'Marriage', 'Work', 'Residence', 'GlucoseLevel', 'BodyMassIndex',\n",
       "       'Smoking', 'BrainStroke'],\n",
       "      dtype='object')"
      ]
     },
     "execution_count": 33,
     "metadata": {},
     "output_type": "execute_result"
    }
   ],
   "source": [
    "#Printing the Columns\n",
    "\n",
    "data.columns"
   ]
  },
  {
   "cell_type": "code",
   "execution_count": 34,
   "id": "9007dca3",
   "metadata": {},
   "outputs": [],
   "source": [
    "from sklearn.model_selection import train_test_split"
   ]
  },
  {
   "cell_type": "code",
   "execution_count": 35,
   "id": "1828f173",
   "metadata": {},
   "outputs": [],
   "source": [
    "x=data.iloc[:,[1,3,4,8,9]]\n",
    "y=data.iloc[:,-1]"
   ]
  },
  {
   "cell_type": "code",
   "execution_count": 36,
   "id": "7a3ad837",
   "metadata": {},
   "outputs": [],
   "source": [
    "x_train,x_test,y_train,y_test=train_test_split(x,y,test_size=0.2,random_state=100)"
   ]
  },
  {
   "cell_type": "code",
   "execution_count": 37,
   "id": "a79f8699",
   "metadata": {},
   "outputs": [
    {
     "data": {
      "text/plain": [
       "LogisticRegression()"
      ]
     },
     "execution_count": 37,
     "metadata": {},
     "output_type": "execute_result"
    }
   ],
   "source": [
    "from sklearn.linear_model import LogisticRegression\n",
    "l2=LogisticRegression()\n",
    "l2.fit(x_train,y_train)"
   ]
  },
  {
   "cell_type": "code",
   "execution_count": 38,
   "id": "168a5310",
   "metadata": {},
   "outputs": [
    {
     "data": {
      "text/plain": [
       "array([0, 0, 0, 0, 0, 0, 0, 0, 0, 0, 0, 0, 0, 0, 0, 0, 0, 0, 0, 0, 0, 0,\n",
       "       0, 0, 0, 0, 0, 0, 0, 0, 0, 0, 0, 0, 0, 0, 0, 0, 0, 0, 0, 0, 0, 0,\n",
       "       0, 0, 0, 0, 0, 0, 0, 0, 0, 0, 0, 0, 0, 0, 0, 0, 0, 0, 0, 0, 0, 0,\n",
       "       0, 0, 0, 0, 0, 0, 0, 0, 0, 0, 0, 0, 0, 0, 0, 0, 0, 0, 0, 0, 0, 0,\n",
       "       0, 0, 0, 0, 0, 0, 0, 0, 0, 0, 0, 0, 0, 0, 0, 0, 0, 0, 0, 0, 0, 0,\n",
       "       0, 0, 0, 0, 0, 0, 0, 0, 0, 0, 0, 0, 0, 0, 0, 0, 0, 0, 0, 0, 0, 0,\n",
       "       0, 0, 0, 0, 0, 0, 0, 0, 0, 0, 0, 0, 0, 0, 0, 0, 0, 0, 0, 0, 0, 0,\n",
       "       0, 0, 0, 0, 0, 0, 0, 0, 0, 0, 0, 0, 0, 0, 0, 0, 0, 0, 0, 0, 0, 0,\n",
       "       0, 0, 0, 0, 0, 0, 0, 0, 0, 0, 0, 0, 0, 0, 0, 0, 0, 0, 0, 0, 0, 0,\n",
       "       0, 0, 0, 0, 0, 0, 0, 0, 0, 0, 0, 0, 0, 0, 0, 0, 0, 0, 0, 0, 0, 0,\n",
       "       0, 0, 0, 0, 0, 0, 0, 0, 0, 0, 0, 0, 0, 0, 0, 0, 0, 0, 0, 0, 0, 0,\n",
       "       0, 0, 0, 0, 0, 0, 0, 0, 0, 0, 0, 0, 0, 0, 0, 0, 0, 0, 0, 0, 0, 0,\n",
       "       0, 0, 0, 0, 0, 0, 0, 0, 0, 0, 0, 0, 0, 0, 0, 0, 0, 0, 0, 0, 0, 0,\n",
       "       0, 0, 0, 0, 0, 0, 0, 0, 0, 0, 0, 0, 0, 0, 0, 0, 0, 0, 0, 0, 0, 0,\n",
       "       0, 0, 0, 0, 0, 0, 0, 0, 0, 0, 0, 0, 0, 0, 0, 0, 0, 0, 0, 0, 0, 0,\n",
       "       0, 0, 0, 0, 0, 0, 0, 0, 0, 0, 0, 0, 0, 0, 0, 0, 0, 0, 0, 0, 0, 0,\n",
       "       0, 0, 0, 0, 0, 0, 0, 0, 0, 0, 0, 0, 0, 0, 0, 0, 0, 0, 0, 0, 0, 0,\n",
       "       0, 0, 0, 0, 0, 0, 0, 0, 0, 0, 0, 0, 0, 0, 0, 0, 0, 0, 0, 0, 0, 0,\n",
       "       0, 0, 0, 0, 0, 0, 0, 0, 0, 0, 0, 0, 0, 0, 0, 0, 0, 0, 0, 0, 0, 0,\n",
       "       0, 0, 0, 0, 0, 0, 0, 0, 0, 0, 0, 0, 0, 0, 0, 0, 0, 0, 0, 0, 0, 0,\n",
       "       0, 0, 0, 0, 0, 0, 0, 0, 0, 0, 0, 0, 0, 0, 0, 0, 0, 0, 0, 0, 0, 0,\n",
       "       0, 0, 0, 0, 0, 0, 0, 0, 0, 0, 0, 0, 0, 0, 0, 0, 0, 0, 0, 0, 0, 0,\n",
       "       0, 0, 0, 0, 0, 0, 0, 0, 0, 0, 0, 0, 0, 0, 0, 0, 0, 0, 0, 0, 0, 0,\n",
       "       0, 0, 0, 0, 0, 0, 0, 0, 0, 0, 0, 0, 0, 0, 0, 0, 0, 0, 0, 0, 0, 0,\n",
       "       0, 0, 0, 0, 0, 0, 0, 0, 0, 0, 0, 0, 0, 0, 0, 0, 0, 0, 0, 0, 0, 0,\n",
       "       0, 0, 0, 0, 0, 0, 0, 0, 0, 0, 0, 0, 0, 0, 0, 0, 0, 0, 0, 0, 0, 0,\n",
       "       0, 0, 0, 0, 0, 0, 0, 0, 0, 0, 0, 0, 0, 0, 0, 0, 0, 0, 0, 0, 0, 0,\n",
       "       0, 0, 0, 0, 0, 0, 0, 0, 0, 0, 0, 0, 0, 0, 0, 0, 0, 0, 0, 0, 0, 0,\n",
       "       0, 0, 0, 0, 0, 0, 0, 0, 0, 0, 0, 0, 0, 0, 0, 0, 0, 0, 0, 0, 0, 0,\n",
       "       0, 0, 0, 0, 0, 0, 0, 0, 0, 0, 0, 0, 0, 0, 0, 0, 0, 0, 0, 0, 0, 0,\n",
       "       0, 0, 0, 0, 0, 0, 0, 0, 0, 0, 0, 0, 0, 0, 0, 0, 0, 0, 0, 0, 0, 0,\n",
       "       0, 0, 0, 0, 0, 0, 0, 0, 0, 0, 0, 0, 0, 0, 0, 0, 0, 0, 0, 0, 0, 0,\n",
       "       0, 0, 0, 0, 0, 0, 0, 0, 0, 0, 0, 0, 0, 0, 0, 0, 0, 0, 0, 0, 0, 0,\n",
       "       0, 0, 0, 0, 0, 0, 0, 0, 0, 0, 0, 0, 0, 0, 0, 0, 0, 0, 0, 0, 0, 0,\n",
       "       0, 0, 0, 0, 0, 0, 0, 0, 0, 0, 0, 0, 0, 0, 0, 0, 0, 0, 0, 0, 0, 0,\n",
       "       0, 0, 0, 0, 0, 0, 0, 0, 0, 0, 0, 0, 0, 0, 0, 0, 0, 0, 0, 0, 0, 0,\n",
       "       0, 0, 0, 0, 0, 0, 0, 0, 0, 0, 0, 0, 0, 0, 0, 0, 0, 0, 0, 0, 0, 0,\n",
       "       0, 0, 0, 0, 0, 0, 0, 0, 0, 0, 0, 0, 0, 0, 0, 0, 0, 0, 0, 0, 0, 0,\n",
       "       0, 0, 0, 0, 0, 0, 0, 0, 0, 0, 0, 0, 0, 0, 0, 0, 0, 0, 0, 0, 0, 0,\n",
       "       0, 0, 0, 0, 0, 0, 0, 0, 0, 0, 0, 0, 0, 0, 0, 0, 0, 0, 0, 0, 0, 0,\n",
       "       0, 0, 0, 0, 0, 0, 0, 0, 0, 0, 0, 0, 0, 0, 0, 0, 0, 0, 0, 0, 0, 0,\n",
       "       0, 0, 0, 0, 0, 0, 0, 0, 0, 0, 0, 0, 0, 0, 0, 0, 0, 0, 0, 0, 0, 0,\n",
       "       0, 0, 0, 0, 0, 0, 0, 0, 0, 0, 0, 0, 0, 0, 0, 0, 0, 0, 0, 0, 0, 0,\n",
       "       0, 0, 0, 0, 0, 0, 0, 0, 0, 0, 0, 0, 0, 0, 0, 0, 0, 0, 0, 0, 0, 0,\n",
       "       0, 0, 0, 0, 0, 0, 0, 0, 0, 0, 0, 0, 0, 0, 0, 0, 0, 0, 0, 0, 0, 0,\n",
       "       0, 0, 0, 0, 0, 0, 0])"
      ]
     },
     "execution_count": 38,
     "metadata": {},
     "output_type": "execute_result"
    }
   ],
   "source": [
    "y_pred=l2.predict(x_test)\n",
    "y_pred"
   ]
  },
  {
   "cell_type": "code",
   "execution_count": 39,
   "id": "8f0e7991",
   "metadata": {},
   "outputs": [
    {
     "name": "stdout",
     "output_type": "stream",
     "text": [
      "Accuracy: 95.78736208625878\n"
     ]
    }
   ],
   "source": [
    "from sklearn.metrics import accuracy_score\n",
    "y_score=accuracy_score(y_test,y_pred)*100\n",
    "print(\"Accuracy:\",y_score)"
   ]
  },
  {
   "cell_type": "code",
   "execution_count": null,
   "id": "22abdf5a",
   "metadata": {},
   "outputs": [],
   "source": []
  }
 ],
 "metadata": {
  "kernelspec": {
   "display_name": "Python 3 (ipykernel)",
   "language": "python",
   "name": "python3"
  },
  "language_info": {
   "codemirror_mode": {
    "name": "ipython",
    "version": 3
   },
   "file_extension": ".py",
   "mimetype": "text/x-python",
   "name": "python",
   "nbconvert_exporter": "python",
   "pygments_lexer": "ipython3",
   "version": "3.9.13"
  }
 },
 "nbformat": 4,
 "nbformat_minor": 5
}
